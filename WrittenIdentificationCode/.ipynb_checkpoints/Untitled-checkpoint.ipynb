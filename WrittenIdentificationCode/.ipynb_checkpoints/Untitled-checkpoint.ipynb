{
 "cells": [
  {
   "cell_type": "code",
   "execution_count": 22,
   "metadata": {},
   "outputs": [
    {
     "name": "stdout",
     "output_type": "stream",
     "text": [
      "Finish image name and writer hash map from forms_for_parsing\n"
     ]
    }
   ],
   "source": [
    "#from google.colab import drive\n",
    "#drive.mount('/content/drive')\n",
    "import os\n",
    "import glob\n",
    "import torch\n",
    "import numpy as np\n",
    "from PIL import Image\n",
    "import torch.nn as nn\n",
    "#os.chdir('/content/drive/My Drive/Dataset/preprocess-image/')\n",
    "PATH_OF_DATA= '/media/neil-do/Intersection/MegaSync/MEGAsync/Study/Artificial Intelligence/Dataset/iam-handwriting-top50/data_subset/'\n",
    "\n",
    "# Create sentence writer mapping\n",
    "#Dictionary with form and writer mapping\n",
    "d = {}\n",
    "with open('/media/neil-do/Intersection/MegaSync/MEGAsync/Study/Artificial Intelligence/Dataset/iam-handwriting-top50/forms_for_parsing.txt') as f:\n",
    "    for line in f:\n",
    "        key = line.split(' ')[0]\n",
    "        writer = line.split(' ')[1]\n",
    "        d[key] = writer\n",
    "\n",
    "\n",
    "'''\n",
    "for img_path in glob.glob(PATH_OF_DATA + '*.png'):\n",
    "    img_name = img_path.split('/')[-1]\n",
    "    name, extension = img_name.split('.')\n",
    "    count += 1\n",
    "    if count\n",
    "'''\n",
    "\n",
    "print('Finish image name and writer hash map from forms_for_parsing')\n",
    "\n",
    "\n",
    "\n",
    "\n",
    "\n"
   ]
  },
  {
   "cell_type": "code",
   "execution_count": 23,
   "metadata": {},
   "outputs": [
    {
     "name": "stdout",
     "output_type": "stream",
     "text": [
      "/media/neil-do/Intersection/MegaSync/MEGAsync/Study/Artificial Intelligence/Dataset/iam-handwriting-top50/data_subset/*\n",
      "Finish create list of image files and associate writer\n"
     ]
    }
   ],
   "source": [
    "\n",
    "# Create array of file names and corresponding target writer names\n",
    "tmp = []\n",
    "target_list = []\n",
    "path_to_files = os.path.join(PATH_OF_DATA, '*')\n",
    "print(path_to_files)\n",
    "for filename in sorted(glob.glob(path_to_files)):\n",
    "    tmp.append(filename)\n",
    "    image_name = filename.split('/')[-1]\n",
    "    file, ext = os.path.splitext(image_name)\n",
    "    parts = file.split('-')\n",
    "    form = parts[0] + '-' + parts[1]\n",
    "    for key in d:\n",
    "        if key == form:\n",
    "            target_list.append(str(d[form]))\n",
    "\n",
    "img_files = np.asarray(tmp) # list of filenames\n",
    "img_targets = np.asarray(target_list) # list of writer associate with img_files has same index\n",
    "\n",
    "print('Finish create list of image files and associate writer')\n",
    "\n"
   ]
  },
  {
   "cell_type": "code",
   "execution_count": 24,
   "metadata": {},
   "outputs": [
    {
     "name": "stdout",
     "output_type": "stream",
     "text": [
      "['/media/neil-do/Intersection/MegaSync/MEGAsync/Study/Artificial Intelligence/Dataset/iam-handwriting-top50/data_subset/a01-000u-s00-00.png'\n",
      " '/media/neil-do/Intersection/MegaSync/MEGAsync/Study/Artificial Intelligence/Dataset/iam-handwriting-top50/data_subset/a01-000u-s00-01.png'\n",
      " '/media/neil-do/Intersection/MegaSync/MEGAsync/Study/Artificial Intelligence/Dataset/iam-handwriting-top50/data_subset/a01-000u-s00-02.png'\n",
      " '/media/neil-do/Intersection/MegaSync/MEGAsync/Study/Artificial Intelligence/Dataset/iam-handwriting-top50/data_subset/a01-000u-s00-03.png'\n",
      " '/media/neil-do/Intersection/MegaSync/MEGAsync/Study/Artificial Intelligence/Dataset/iam-handwriting-top50/data_subset/a01-000u-s01-00.png'] ['000' '000' '000' '000' '000'] [0 0 0 0 0]\n",
      "(3233,) (833,) (833,)\n",
      "(3233,) (833,) (833,)\n",
      "Fin generator\n"
     ]
    },
    {
     "data": {
      "text/plain": [
       "<Figure size 720x720 with 0 Axes>"
      ]
     },
     "metadata": {},
     "output_type": "display_data"
    },
    {
     "data": {
      "text/plain": [
       "<Figure size 720x720 with 0 Axes>"
      ]
     },
     "metadata": {},
     "output_type": "display_data"
    },
    {
     "data": {
      "text/plain": [
       "<Figure size 720x720 with 0 Axes>"
      ]
     },
     "metadata": {},
     "output_type": "display_data"
    }
   ],
   "source": [
    "\n",
    "\n",
    "# Visualizing sample image\n",
    "import matplotlib.pyplot as plt\n",
    "import matplotlib.image as mpimg\n",
    "%matplotlib inline\n",
    "from sklearn.preprocessing import LabelEncoder\n",
    "\n",
    "# Visualizing the data\n",
    "for filename in img_files[:3]:\n",
    "    img=mpimg.imread(filename)\n",
    "    plt.figure(figsize=(10,10))\n",
    "    #plt.imshow(img, cmap ='gray')\n",
    "\n",
    "# Label Encode writer names for one hot encoding later\n",
    "encoder = LabelEncoder()\n",
    "encoder.fit(img_targets)\n",
    "encoded_Y = encoder.transform(img_targets)\n",
    "\n",
    "print(img_files[:5], img_targets[:5], encoded_Y[:5])\n",
    "\n",
    "\n",
    "#split into test train and validation in ratio 4:1:1\n",
    "\n",
    "from sklearn.model_selection import train_test_split\n",
    "train_files, rem_files, train_targets, rem_targets = train_test_split(\n",
    "        img_files, encoded_Y, train_size=0.66, random_state=52, shuffle= True)\n",
    "\n",
    "validation_files, test_files, validation_targets, test_targets = train_test_split(\n",
    "        rem_files, rem_targets, train_size=0.5, random_state=22, shuffle=True)\n",
    "\n",
    "print(train_files.shape, validation_files.shape, test_files.shape)\n",
    "print(train_targets.shape, validation_targets.shape, test_targets.shape)\n",
    "\n",
    "\n",
    "\n",
    "\n",
    "\n",
    "\n",
    "print('Fin generator')"
   ]
  },
  {
   "cell_type": "code",
   "execution_count": 49,
   "metadata": {},
   "outputs": [
    {
     "name": "stdout",
     "output_type": "stream",
     "text": [
      "['/media/neil-do/Intersection/MegaSync/MEGAsync/Study/Artificial Intelligence/Dataset/iam-handwriting-top50/preprocess-image/n06-163-s01-02-4.png'\n",
      " '/media/neil-do/Intersection/MegaSync/MEGAsync/Study/Artificial Intelligence/Dataset/iam-handwriting-top50/preprocess-image/g06-011b-s00-00-11.png'\n",
      " '/media/neil-do/Intersection/MegaSync/MEGAsync/Study/Artificial Intelligence/Dataset/iam-handwriting-top50/preprocess-image/a05-104-s01-02-22.png'\n",
      " ...\n",
      " '/media/neil-do/Intersection/MegaSync/MEGAsync/Study/Artificial Intelligence/Dataset/iam-handwriting-top50/preprocess-image/g06-031p-s04-01-15.png'\n",
      " '/media/neil-do/Intersection/MegaSync/MEGAsync/Study/Artificial Intelligence/Dataset/iam-handwriting-top50/preprocess-image/d06-030-s04-00-13.png'\n",
      " '/media/neil-do/Intersection/MegaSync/MEGAsync/Study/Artificial Intelligence/Dataset/iam-handwriting-top50/preprocess-image/r06-044-s02-02-6.png']\n",
      "61199\n",
      "Finish generate data\n",
      "Finish Load dataset\n"
     ]
    }
   ],
   "source": [
    "#split into test train and validation in ratio 4:1:1\n",
    "\n",
    "import pickle\n",
    "img_files_in = open('img_files.dat', 'rb')\n",
    "encoded_Y_in = open('encoded_Y.dat', 'rb')\n",
    "\n",
    "img_files = pickle.load(img_files_in)\n",
    "encoded_Y = pickle.load(encoded_Y_in)\n",
    "\n",
    "img_files_in.close()\n",
    "encoded_Y_in.close()\n",
    "\n",
    "from sklearn.model_selection import train_test_split\n",
    "train_files, rem_files, train_targets, rem_targets = train_test_split(\n",
    "        img_files, encoded_Y, train_size=0.66, random_state=52, shuffle= True)\n",
    "\n",
    "validation_files, test_files, validation_targets, test_targets = train_test_split(\n",
    "        rem_files, rem_targets, train_size=0.5, random_state=22, shuffle=True)\n",
    "\n",
    "# print(train_files.size, validation_files.size, test_files.size)\n",
    "# print(train_targets.size, validation_targets.size, test_targets.size)\n",
    "# print(train_files)\n",
    "\n",
    "def generate_data(samples, target_files):\n",
    "    data = []\n",
    "    print(samples)\n",
    "    for i in range(len(samples)):\n",
    "        im = Image.open(samples[i])\n",
    "        img_np = np.array(im)\n",
    "        targets_np = np.array(target_files[i])\n",
    "        data.append([img_np, targets_np])\n",
    "    return data\n",
    "            \n",
    "print('Create dataset.')\n",
    "train_dataset = generate_data(train_files, train_targets)\n",
    "validation_dataset = generate_data(validation_files, validation_targets)\n",
    "test_dataset = generate_data(test_files, test_targets)\n",
    "\n",
    "print('Finish create dataset.')\n",
    "print('start save dataset')\n",
    "validation_dataset_out = open('validation_dataset.dat', 'wb')\n",
    "test_dataset_out = open('test_dataset.dat', 'wb')\n",
    "\n",
    "pickle.dump(validation_dataset, validation_dataset_out)\n",
    "pickle.dump(test_dataset, test_dataset_out)\n",
    "\n",
    "validation_dataset_out.close()\n",
    "test_dataset_out.close()\n",
    "\n",
    "print('finish save dataset')\n",
    "\n",
    "print('Finish generate data')\n",
    "# batch_size = 100\n",
    "# from torch.utils.data import DataLoader\n",
    "# train_loader = DataLoader(dataset=train_dataset, batch_size=batch_size, shuffle=True)\n",
    "# # test_loader = DataLoader(dataset=test_dataset, batch_size=batch_size, shuffle=False)\n",
    "# print('Finish Load dataset')\n",
    "\n"
   ]
  },
  {
   "cell_type": "code",
   "execution_count": 41,
   "metadata": {},
   "outputs": [
    {
     "name": "stdout",
     "output_type": "stream",
     "text": [
      "Fin create Model\n"
     ]
    },
    {
     "ename": "NameError",
     "evalue": "name 'num_epochs' is not defined",
     "output_type": "error",
     "traceback": [
      "\u001b[0;31m---------------------------------------------------------------------------\u001b[0m",
      "\u001b[0;31mNameError\u001b[0m                                 Traceback (most recent call last)",
      "\u001b[0;32m<ipython-input-41-08f690949ddd>\u001b[0m in \u001b[0;36m<module>\u001b[0;34m\u001b[0m\n\u001b[1;32m     53\u001b[0m \u001b[0mloss_list\u001b[0m \u001b[0;34m=\u001b[0m \u001b[0;34m[\u001b[0m\u001b[0;34m]\u001b[0m\u001b[0;34m\u001b[0m\u001b[0;34m\u001b[0m\u001b[0m\n\u001b[1;32m     54\u001b[0m \u001b[0macc_list\u001b[0m \u001b[0;34m=\u001b[0m \u001b[0;34m[\u001b[0m\u001b[0;34m]\u001b[0m\u001b[0;34m\u001b[0m\u001b[0;34m\u001b[0m\u001b[0m\n\u001b[0;32m---> 55\u001b[0;31m \u001b[0;32mfor\u001b[0m \u001b[0mepoch\u001b[0m \u001b[0;32min\u001b[0m \u001b[0mrange\u001b[0m\u001b[0;34m(\u001b[0m\u001b[0mnum_epochs\u001b[0m\u001b[0;34m)\u001b[0m\u001b[0;34m:\u001b[0m\u001b[0;34m\u001b[0m\u001b[0;34m\u001b[0m\u001b[0m\n\u001b[0m\u001b[1;32m     56\u001b[0m     \u001b[0;32mfor\u001b[0m \u001b[0mi\u001b[0m\u001b[0;34m,\u001b[0m \u001b[0;34m(\u001b[0m\u001b[0mimages\u001b[0m\u001b[0;34m,\u001b[0m \u001b[0mlabels\u001b[0m\u001b[0;34m)\u001b[0m \u001b[0;32min\u001b[0m \u001b[0menumerate\u001b[0m\u001b[0;34m(\u001b[0m\u001b[0mtrain_loader\u001b[0m\u001b[0;34m)\u001b[0m\u001b[0;34m:\u001b[0m\u001b[0;34m\u001b[0m\u001b[0;34m\u001b[0m\u001b[0m\n\u001b[1;32m     57\u001b[0m         \u001b[0;31m# Run the forward pass\u001b[0m\u001b[0;34m\u001b[0m\u001b[0;34m\u001b[0m\u001b[0;34m\u001b[0m\u001b[0m\n",
      "\u001b[0;31mNameError\u001b[0m: name 'num_epochs' is not defined"
     ]
    }
   ],
   "source": [
    "\n",
    "__all__ = ['DeepWriter', 'deepwriter']\n",
    "\n",
    "class DeepWriter(nn.Module):\n",
    "\n",
    "    def __init__(self, num_classes=10):\n",
    "        super(DeepWriter, self).__init__()\n",
    "        self.features = nn.Sequential(\n",
    "            nn.Conv2d(3, 32, kernel_size=5, stride=2),\n",
    "            nn.ReLU(inplace=True),\n",
    "            nn.MaxPool2d(kernel_size=3, stride=2),\n",
    "            nn.Conv2d(32, 64, kernel_size=3,stride=1, padding=1),\n",
    "            nn.ReLU(inplace=True),\n",
    "            nn.MaxPool2d(kernel_size=3, stride=2),\n",
    "            nn.Conv2d(64, 96, kernel_size=3, stride=1, padding=1),\n",
    "            nn.ReLU(inplace=True),\n",
    "            nn.Conv2d(96, 96, kernel_size=3, stride=1, padding=1),\n",
    "            nn.ReLU(inplace=True),\n",
    "            nn.Conv2d(96, 64, kernel_size=3, stride=1, padding=1),\n",
    "            nn.ReLU(inplace=True),\n",
    "            nn.MaxPool2d(kernel_size=3, stride=2),\n",
    "        )\n",
    "        self.avgpool = nn.AdaptiveAvgPool2d((6, 6))\n",
    "        self.classifier = nn.Sequential(\n",
    "            nn.Dropout(),\n",
    "            nn.Linear(64 * 6 * 6, 256),\n",
    "            nn.ReLU(inplace=True),\n",
    "            nn.Dropout(),\n",
    "            nn.Linear(256, 256),\n",
    "            nn.ReLU(inplace=True),\n",
    "            nn.Linear(256, num_classes),\n",
    "        )\n",
    "\n",
    "    def forward(self, x):\n",
    "        x = self.features(x)\n",
    "        x = self.avgpool(x)\n",
    "        x = torch.flatten(x, 1)\n",
    "        x = self.classifier(x)\n",
    "        return x\n",
    "\n",
    "model = DeepWriter(50)\n",
    "criterion = torch.nn.CrossEntropyLoss()\n",
    "optimizer = torch.optim.SGD(model.parameters(), lr=1e-4)\n",
    "\n",
    "nb_epoch = 8\n",
    "\n",
    "samples_per_epoch = 3268\n",
    "nb_val_samples = 842\n",
    "print('Fin create Model')\n",
    "\n",
    "\n",
    "# Train the model\n",
    "total_step = len(train_loader)\n",
    "loss_list = []\n",
    "acc_list = []\n",
    "for epoch in range(num_epochs):\n",
    "    for i, (images, labels) in enumerate(train_loader):\n",
    "        # Run the forward pass\n",
    "        images = images.cuda()\n",
    "        labels = labels.cuda()\n",
    "        outputs = model(images)\n",
    "        loss = criterion(outputs, labels)\n",
    "        loss_list.append(loss.item())\n",
    "\n",
    "        # Backprop and perform Adam optimisation\n",
    "        optimizer.zero_grad()\n",
    "        loss.backward()\n",
    "        optimizer.step()\n",
    "\n",
    "        # Track the accuracy\n",
    "        total = labels.size(0)\n",
    "        _, predicted = torch.max(outputs.data, 1)\n",
    "        correct = (predicted == labels).sum().item()\n",
    "        acc_list.append(correct / total)\n",
    "\n",
    "        if (i + 1) % 100 == 0:\n",
    "            print('Epoch [{}/{}], Step [{}/{}], Loss: {:.4f}, Accuracy: {:.2f}%'\n",
    "                  .format(epoch + 1, num_epochs, i + 1, total_step, loss.item(),\n",
    "                          (correct / total) * 100))"
   ]
  },
  {
   "cell_type": "code",
   "execution_count": 35,
   "metadata": {},
   "outputs": [
    {
     "name": "stdout",
     "output_type": "stream",
     "text": [
      "Hello World\n"
     ]
    }
   ],
   "source": [
    "print('Hello World')"
   ]
  }
 ],
 "metadata": {
  "kernelspec": {
   "display_name": "Python 3",
   "language": "python",
   "name": "python3"
  }
 },
 "nbformat": 4,
 "nbformat_minor": 2
}
